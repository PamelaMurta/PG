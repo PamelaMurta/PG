{
 "cells": [
  {
   "cell_type": "code",
   "execution_count": 27,
   "metadata": {},
   "outputs": [],
   "source": [
    "import random\n",
    "import numpy as np\n",
    "import pandas as pd\n",
    "import operator\n",
    "import math\n",
    "\n",
    "\n",
    "\n",
    "from deap import creator, gp, tools\n",
    "from sklearn.model_selection import train_test_split\n",
    "from sklearn.metrics import mean_squared_error\n",
    "from deap import algorithms, base, creator, tools, gp"
   ]
  },
  {
   "cell_type": "code",
   "execution_count": 28,
   "metadata": {},
   "outputs": [],
   "source": [
    "import random\n",
    "from deap import algorithms, base, creator, tools, gp\n",
    "import pandas as pd\n",
    "import numpy as np\n",
    "\n",
    "# Carregando os datasets df_red e df_white\n",
    "df_red = pd.read_csv('C:\\\\Users\\\\pamel\\\\OneDrive\\\\Documentos\\\\Pos IA\\\\Programação Genetica\\\\Datasets\\\\wine+quality\\\\winequality-red.csv', sep=';')\n",
    "df_white = pd.read_csv('C:\\\\Users\\\\pamel\\\\OneDrive\\\\Documentos\\\\Pos IA\\\\Programação Genetica\\\\Datasets\\\\wine+quality\\\\winequality-white.csv', sep=';')\n",
    "\n",
    "# Concatenando os dataframes\n",
    "df_vinho = pd.concat([df_red, df_white])\n",
    "\n",
    "# Separando as características (X) e o alvo (y)\n",
    "X = df_vinho.drop(\"quality\", axis=1)\n",
    "y = df_vinho[\"quality\"]\n"
   ]
  },
  {
   "cell_type": "markdown",
   "metadata": {},
   "source": []
  },
  {
   "cell_type": "code",
   "execution_count": 31,
   "metadata": {},
   "outputs": [
    {
     "ename": "AttributeError",
     "evalue": "module 'deap.creator' has no attribute 'PrimitiveSet'",
     "output_type": "error",
     "traceback": [
      "\u001b[1;31m---------------------------------------------------------------------------\u001b[0m",
      "\u001b[1;31mAttributeError\u001b[0m                            Traceback (most recent call last)",
      "Cell \u001b[1;32mIn[31], line 6\u001b[0m\n\u001b[0;32m      3\u001b[0m pset \u001b[39m=\u001b[39m gp\u001b[39m.\u001b[39mPrimitiveSet(\u001b[39m\"\u001b[39m\u001b[39mMAIN\u001b[39m\u001b[39m\"\u001b[39m, X\u001b[39m.\u001b[39mshape[\u001b[39m1\u001b[39m])  \u001b[39m# Ajuste o número de características de acordo com o dataset\u001b[39;00m\n\u001b[0;32m      4\u001b[0m tree_depth \u001b[39m=\u001b[39m \u001b[39m3\u001b[39m  \u001b[39m# Ajuste o valor de acordo com a profundidade desejada\u001b[39;00m\n\u001b[1;32m----> 6\u001b[0m pset \u001b[39m=\u001b[39m creator\u001b[39m.\u001b[39;49mPrimitiveSet(\u001b[39m\"\u001b[39m\u001b[39mMAIN\u001b[39m\u001b[39m\"\u001b[39m, \u001b[39m11\u001b[39m)  \u001b[39m# Número de características\u001b[39;00m\n\u001b[0;32m      7\u001b[0m pset\u001b[39m.\u001b[39maddPrimitive(\u001b[39mmax\u001b[39m, \u001b[39m2\u001b[39m)\n\u001b[0;32m      8\u001b[0m pset\u001b[39m.\u001b[39maddPrimitive(\u001b[39mmin\u001b[39m, \u001b[39m2\u001b[39m)\n",
      "\u001b[1;31mAttributeError\u001b[0m: module 'deap.creator' has no attribute 'PrimitiveSet'"
     ]
    }
   ],
   "source": [
    "\n",
    "# Definindo a estrutura da árvore de expressão\n",
    "\n",
    "pset = gp.PrimitiveSet(\"MAIN\", X.shape[1])  # Ajuste o número de características de acordo com o dataset\n",
    "tree_depth = 3  # Ajuste o valor de acordo com a profundidade desejada\n",
    "\n",
    "pset = creator.PrimitiveSet(\"MAIN\", 11)  # Número de características\n",
    "pset.addPrimitive(max, 2)\n",
    "pset.addPrimitive(min, 2)\n",
    "pset.addPrimitive(sum, 2)\n",
    "pset.addPrimitive(abs, 1)\n",
    "pset.addTerminal(0)\n",
    "pset.addTerminal(1)\n",
    "pset.addTerminal(10)\n",
    "pset.renameArguments(ARG0='fixed_acidity')\n",
    "pset.renameArguments(ARG1='volatile_acidity')\n",
    "pset.renameArguments(ARG2='citric_acid')\n",
    "pset.renameArguments(ARG3='residual_sugar')\n",
    "pset.renameArguments(ARG4='chlorides')\n",
    "pset.renameArguments(ARG5='free_sulfur_dioxide')\n",
    "pset.renameArguments(ARG6='total_sulfur_dioxide')\n",
    "pset.renameArguments(ARG7='density')\n",
    "pset.renameArguments(ARG8='pH')\n",
    "pset.renameArguments(ARG9='sulphates')\n",
    "pset.renameArguments(ARG10='alcohol')"
   ]
  },
  {
   "cell_type": "code",
   "execution_count": null,
   "metadata": {},
   "outputs": [],
   "source": [
    "\n",
    "# Definindo a função de geração de indivíduos\n",
    "def generate_individual():\n",
    "    nodes = [random.choice(pset.primitives) for _ in range(tree_depth)]\n",
    "    return gp.PrimitiveTree(nodes)\n",
    "\n",
    "\n",
    "# Definindo a função de avaliação\n",
    "def evaluate(individual):\n",
    "    try:\n",
    "        func = gp.compile(expr=individual, pset=pset)\n",
    "        y_pred = [func(*row) for row in X.values]\n",
    "        mse = ((y_pred - y) ** 2).mean()\n",
    "        return mse,\n",
    "    except Exception as e:\n",
    "        return float('inf'),"
   ]
  },
  {
   "cell_type": "code",
   "execution_count": null,
   "metadata": {},
   "outputs": [],
   "source": [
    "# Definindo a função de crossover personalizada\n",
    "def crossover(ind1, ind2):\n",
    "    temp1 = gp.PrimitiveTree(ind1)\n",
    "    temp2 = gp.PrimitiveTree(ind2)\n",
    "    points1 = [i for i, node in enumerate(temp1) if isinstance(node, gp.Primitive)]\n",
    "    points2 = [i for i, node in enumerate(temp2) if isinstance(node, gp.Primitive)]\n",
    "    if points1 and points2:\n",
    "        point1 = random.choice(points1)\n",
    "        point2 = random.choice(points2)\n",
    "        ind1[point1], ind2[point2] = ind2[point2], ind1[point1]\n",
    "    return ind1, ind2\n"
   ]
  },
  {
   "cell_type": "code",
   "execution_count": null,
   "metadata": {},
   "outputs": [],
   "source": [
    "\n",
    "# Definindo a função de mutação personalizada\n",
    "def mutUniform(individual, expr, pset):\n",
    "    index = random.randrange(len(individual))\n",
    "    stack = [(index, individual)]\n",
    "    while stack:\n",
    "        index, individual = stack.pop()\n",
    "        if isinstance(individual[index], gp.Primitive):\n",
    "            if individual[index].arity == 0:\n",
    "                individual[index] = expr()\n",
    "            else:\n",
    "                new_node = gp.PrimitiveTree([random.choice(pset.primitives) for _ in range(tree_depth)])\n",
    "                individual[index] = new_node\n",
    "                for i in range(individual[index].arity):\n",
    "                    stack.append((index + i + 1, new_node))\n",
    "    return individual,\n",
    "\n"
   ]
  },
  {
   "cell_type": "code",
   "execution_count": null,
   "metadata": {},
   "outputs": [],
   "source": [
    "\n",
    "# Criando as classes FitnessMin e Individual diretamente\n",
    "class FitnessMin:\n",
    "    def __init__(self):\n",
    "        self.values = (-1.0,)\n",
    "\n",
    "class Individual(gp.PrimitiveTree):\n",
    "    def __init__(self, *args, **kwargs):\n",
    "        super().__init__(*args, **kwargs)\n",
    "        self.fitness = FitnessMin()\n",
    "\n",
    "toolbox = base.Toolbox()\n",
    "toolbox.register(\"expr\", generate_individual)\n",
    "toolbox.register(\"individual\", tools.initIterate, Individual, generate_individual)\n",
    "toolbox.register(\"population\", tools.initRepeat, list, toolbox.individual)\n",
    "toolbox.register(\"evaluate\", evaluate)\n",
    "toolbox.register(\"mate\", crossover)\n",
    "toolbox.register(\"mutate\", mutUniform, expr=toolbox.expr, pset=pset)\n",
    "toolbox.register(\"select\", tools.selTournament, tournsize=3)\n"
   ]
  },
  {
   "cell_type": "code",
   "execution_count": null,
   "metadata": {},
   "outputs": [],
   "source": [
    "# Definindo os parâmetros do algoritmo genético\n",
    "population_size = 100\n",
    "generations = 50\n",
    "cx_prob = 0.5\n",
    "mut_prob = 0.2"
   ]
  },
  {
   "cell_type": "code",
   "execution_count": null,
   "metadata": {},
   "outputs": [],
   "source": [
    "# Criando a população inicial\n",
    "population = toolbox.population(n=population_size)"
   ]
  },
  {
   "cell_type": "code",
   "execution_count": null,
   "metadata": {},
   "outputs": [
    {
     "ename": "AttributeError",
     "evalue": "'FitnessMin' object has no attribute 'values'",
     "output_type": "error",
     "traceback": [
      "\u001b[1;31m---------------------------------------------------------------------------\u001b[0m",
      "\u001b[1;31mAttributeError\u001b[0m                            Traceback (most recent call last)",
      "Cell \u001b[1;32mIn[23], line 2\u001b[0m\n\u001b[0;32m      1\u001b[0m \u001b[39mfor\u001b[39;00m gen \u001b[39min\u001b[39;00m \u001b[39mrange\u001b[39m(generations):\n\u001b[1;32m----> 2\u001b[0m     offspring \u001b[39m=\u001b[39m algorithms\u001b[39m.\u001b[39;49mvarAnd(population, toolbox, cxpb\u001b[39m=\u001b[39;49mcx_prob, mutpb\u001b[39m=\u001b[39;49mmut_prob)\n\u001b[0;32m      3\u001b[0m     fits \u001b[39m=\u001b[39m toolbox\u001b[39m.\u001b[39mmap(toolbox\u001b[39m.\u001b[39mevaluate, offspring)\n\u001b[0;32m      4\u001b[0m     \u001b[39mfor\u001b[39;00m fit, ind \u001b[39min\u001b[39;00m \u001b[39mzip\u001b[39m(fits, offspring):\n",
      "File \u001b[1;32mc:\\Users\\pamel\\AppData\\Local\\Programs\\Python\\Python311\\Lib\\site-packages\\deap\\algorithms.py:80\u001b[0m, in \u001b[0;36mvarAnd\u001b[1;34m(population, toolbox, cxpb, mutpb)\u001b[0m\n\u001b[0;32m     78\u001b[0m     \u001b[39mif\u001b[39;00m random\u001b[39m.\u001b[39mrandom() \u001b[39m<\u001b[39m mutpb:\n\u001b[0;32m     79\u001b[0m         offspring[i], \u001b[39m=\u001b[39m toolbox\u001b[39m.\u001b[39mmutate(offspring[i])\n\u001b[1;32m---> 80\u001b[0m         \u001b[39mdel\u001b[39;00m offspring[i]\u001b[39m.\u001b[39;49mfitness\u001b[39m.\u001b[39;49mvalues\n\u001b[0;32m     82\u001b[0m \u001b[39mreturn\u001b[39;00m offspring\n",
      "\u001b[1;31mAttributeError\u001b[0m: 'FitnessMin' object has no attribute 'values'"
     ]
    }
   ],
   "source": [
    "\n",
    "\n",
    "for gen in range(generations):\n",
    "    offspring = algorithms.varAnd(population, toolbox, cxpb=cx_prob, mutpb=mut_prob)\n",
    "    fits = toolbox.map(toolbox.evaluate, offspring)\n",
    "    for fit, ind in zip(fits, offspring):\n",
    "        ind.fitness.values = fit[0],\n",
    "    population[:] = offspring\n",
    "\n",
    "best_individual = tools.selBest(population, k=1)[0]\n",
    "best_fitness = best_individual.fitness.values[0]\n",
    "\n",
    "\n"
   ]
  },
  {
   "cell_type": "code",
   "execution_count": null,
   "metadata": {},
   "outputs": [],
   "source": [
    "print(\"Melhor indivíduo:\", best_individual)\n",
    "print(\"Melhor fitness:\", best_fitness)\n"
   ]
  }
 ],
 "metadata": {
  "kernelspec": {
   "display_name": "Python 3",
   "language": "python",
   "name": "python3"
  },
  "language_info": {
   "codemirror_mode": {
    "name": "ipython",
    "version": 3
   },
   "file_extension": ".py",
   "mimetype": "text/x-python",
   "name": "python",
   "nbconvert_exporter": "python",
   "pygments_lexer": "ipython3",
   "version": "3.11.4"
  },
  "orig_nbformat": 4
 },
 "nbformat": 4,
 "nbformat_minor": 2
}
